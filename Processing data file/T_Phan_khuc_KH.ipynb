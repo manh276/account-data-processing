{
 "cells": [
  {
   "cell_type": "markdown",
   "id": "cb140bf1",
   "metadata": {},
   "source": [
    "# @3\n",
    "# GHI CHÚ\n",
    "# I) File này dùng để tính toán các chỉ số RFM của khách hàng và tiến hành phân cụm. Sau đó đưa vào bảng Phan_khuc_KH trong CSDL Ban_HANG\n",
    "# II) Sử dụng dữ liệu từ bảng SO_CHI_TIET trong CSDL Ban_Hang"
   ]
  },
  {
   "cell_type": "code",
   "execution_count": 4,
   "id": "b382ee74",
   "metadata": {},
   "outputs": [],
   "source": [
    "import pandas as pd\n",
    "import numpy as np\n",
    "import seaborn as sns\n",
    "import matplotlib.pyplot as plt\n",
    "import pyodbc\n",
    "import datetime\n",
    "from scipy import stats\n",
    "from sklearn.preprocessing import StandardScaler\n",
    "from sklearn.cluster import KMeans\n",
    "from matplotlib.ticker import FuncFormatter\n",
    "import numpy as np\n",
    "import pyodbc"
   ]
  },
  {
   "cell_type": "markdown",
   "id": "6a593189",
   "metadata": {},
   "source": [
    "# B1 tính RFM"
   ]
  },
  {
   "cell_type": "code",
   "execution_count": 3,
   "id": "84c6fb01",
   "metadata": {},
   "outputs": [],
   "source": [
    "def cal_RFM():\n",
    "    pd.options.display.float_format = '{:.2f}'.format\n",
    "    #Lay ra SO_CHI_TIET\n",
    "    query = \"SELECT * FROM SO_CHI_TIET where Ma_KH not in ('Sampling','Tu_thien')\"\n",
    "    df = pd.read_sql_query(query, conn)\n",
    "    #Giả sử ngày hiện tại là ngày phát sinh giao dịch cuối cùng + 1 trong SO_CHI_TIET\n",
    "    current_date = max(df['Ngay_chung_tu']) + datetime.timedelta(days=1)\n",
    "    #Tính RFM\n",
    "    df_customers = df.groupby(['Ma_KH']).agg(\n",
    "    {'Ngay_chung_tu': lambda x: (current_date- x.max()).days,\n",
    "     'So_hoa_don':'nunique',\n",
    "     'Doanh_so':'sum'\n",
    "     }\n",
    "    )\n",
    "    df_customers.rename(columns={'Ngay_chung_tu':'Recency','So_hoa_don':'Frequency','Doanh_so':'MonetaryValue'}, inplace=True)\n",
    "    return df_customers\n",
    "    "
   ]
  },
  {
   "cell_type": "code",
   "execution_count": 4,
   "id": "78454a02",
   "metadata": {},
   "outputs": [],
   "source": [
    "df_customers = cal_RFM()"
   ]
  },
  {
   "cell_type": "code",
   "execution_count": 5,
   "id": "e8034dc3",
   "metadata": {},
   "outputs": [
    {
     "data": {
      "text/html": [
       "<div>\n",
       "<style scoped>\n",
       "    .dataframe tbody tr th:only-of-type {\n",
       "        vertical-align: middle;\n",
       "    }\n",
       "\n",
       "    .dataframe tbody tr th {\n",
       "        vertical-align: top;\n",
       "    }\n",
       "\n",
       "    .dataframe thead th {\n",
       "        text-align: right;\n",
       "    }\n",
       "</style>\n",
       "<table border=\"1\" class=\"dataframe\">\n",
       "  <thead>\n",
       "    <tr style=\"text-align: right;\">\n",
       "      <th></th>\n",
       "      <th>Recency</th>\n",
       "      <th>Frequency</th>\n",
       "      <th>MonetaryValue</th>\n",
       "    </tr>\n",
       "    <tr>\n",
       "      <th>Ma_KH</th>\n",
       "      <th></th>\n",
       "      <th></th>\n",
       "      <th></th>\n",
       "    </tr>\n",
       "  </thead>\n",
       "  <tbody>\n",
       "    <tr>\n",
       "      <th>KH00001</th>\n",
       "      <td>1095</td>\n",
       "      <td>1</td>\n",
       "      <td>164320000.00</td>\n",
       "    </tr>\n",
       "    <tr>\n",
       "      <th>KH00002</th>\n",
       "      <td>858</td>\n",
       "      <td>2</td>\n",
       "      <td>96175000.00</td>\n",
       "    </tr>\n",
       "    <tr>\n",
       "      <th>KH00003</th>\n",
       "      <td>10</td>\n",
       "      <td>31</td>\n",
       "      <td>4363511324.00</td>\n",
       "    </tr>\n",
       "    <tr>\n",
       "      <th>KH00004</th>\n",
       "      <td>7</td>\n",
       "      <td>35</td>\n",
       "      <td>3945543723.00</td>\n",
       "    </tr>\n",
       "    <tr>\n",
       "      <th>KH00005</th>\n",
       "      <td>6</td>\n",
       "      <td>35</td>\n",
       "      <td>6895584252.00</td>\n",
       "    </tr>\n",
       "    <tr>\n",
       "      <th>...</th>\n",
       "      <td>...</td>\n",
       "      <td>...</td>\n",
       "      <td>...</td>\n",
       "    </tr>\n",
       "    <tr>\n",
       "      <th>KH00329</th>\n",
       "      <td>1</td>\n",
       "      <td>1</td>\n",
       "      <td>13204854.00</td>\n",
       "    </tr>\n",
       "    <tr>\n",
       "      <th>KH00330</th>\n",
       "      <td>1</td>\n",
       "      <td>1</td>\n",
       "      <td>10303904.00</td>\n",
       "    </tr>\n",
       "    <tr>\n",
       "      <th>KH00331</th>\n",
       "      <td>1</td>\n",
       "      <td>1</td>\n",
       "      <td>14016860.00</td>\n",
       "    </tr>\n",
       "    <tr>\n",
       "      <th>KH00332</th>\n",
       "      <td>1</td>\n",
       "      <td>1</td>\n",
       "      <td>10655000.00</td>\n",
       "    </tr>\n",
       "    <tr>\n",
       "      <th>KH00333</th>\n",
       "      <td>1</td>\n",
       "      <td>1</td>\n",
       "      <td>10900201.00</td>\n",
       "    </tr>\n",
       "  </tbody>\n",
       "</table>\n",
       "<p>332 rows × 3 columns</p>\n",
       "</div>"
      ],
      "text/plain": [
       "         Recency  Frequency  MonetaryValue\n",
       "Ma_KH                                     \n",
       "KH00001     1095          1   164320000.00\n",
       "KH00002      858          2    96175000.00\n",
       "KH00003       10         31  4363511324.00\n",
       "KH00004        7         35  3945543723.00\n",
       "KH00005        6         35  6895584252.00\n",
       "...          ...        ...            ...\n",
       "KH00329        1          1    13204854.00\n",
       "KH00330        1          1    10303904.00\n",
       "KH00331        1          1    14016860.00\n",
       "KH00332        1          1    10655000.00\n",
       "KH00333        1          1    10900201.00\n",
       "\n",
       "[332 rows x 3 columns]"
      ]
     },
     "execution_count": 5,
     "metadata": {},
     "output_type": "execute_result"
    }
   ],
   "source": [
    "df_customers"
   ]
  },
  {
   "cell_type": "markdown",
   "id": "cdc3e895",
   "metadata": {},
   "source": [
    "# B2: Vẽ phân phối để lựa chọn phương pháp Transform"
   ]
  },
  {
   "cell_type": "code",
   "execution_count": 6,
   "id": "98910729",
   "metadata": {},
   "outputs": [
    {
     "name": "stderr",
     "output_type": "stream",
     "text": [
      "D:\\anaconda\\lib\\site-packages\\seaborn\\distributions.py:2619: FutureWarning: `distplot` is a deprecated function and will be removed in a future version. Please adapt your code to use either `displot` (a figure-level function with similar flexibility) or `histplot` (an axes-level function for histograms).\n",
      "  warnings.warn(msg, FutureWarning)\n",
      "D:\\anaconda\\lib\\site-packages\\seaborn\\distributions.py:2619: FutureWarning: `distplot` is a deprecated function and will be removed in a future version. Please adapt your code to use either `displot` (a figure-level function with similar flexibility) or `histplot` (an axes-level function for histograms).\n",
      "  warnings.warn(msg, FutureWarning)\n",
      "D:\\anaconda\\lib\\site-packages\\seaborn\\distributions.py:2619: FutureWarning: `distplot` is a deprecated function and will be removed in a future version. Please adapt your code to use either `displot` (a figure-level function with similar flexibility) or `histplot` (an axes-level function for histograms).\n",
      "  warnings.warn(msg, FutureWarning)\n"
     ]
    },
    {
     "data": {
      "image/png": "[encoded data removed]",
      "text/plain": [
       "<Figure size 864x288 with 3 Axes>"
      ]
     },
     "metadata": {
      "needs_background": "light"
     },
     "output_type": "display_data"
    }
   ],
   "source": [
    "# Ve phan phoi de kiem tra\n",
    "fig, ax = plt.subplots(1, 3, figsize=(12,4))\n",
    "sns.distplot(df_customers['Recency'], ax = ax[0])\n",
    "sns.distplot(df_customers['Frequency'], ax = ax[1])\n",
    "sns.distplot(df_customers['MonetaryValue'], ax = ax[2])\n",
    "plt.show()"
   ]
  },
  {
   "cell_type": "markdown",
   "id": "0df773d5",
   "metadata": {},
   "source": [
    "# B3: phân tích skewness để lựa chọn phương pháp transform phù hợp với dữ liệu"
   ]
  },
  {
   "cell_type": "code",
   "execution_count": 7,
   "id": "106376cb",
   "metadata": {},
   "outputs": [],
   "source": [
    "def analyze_skewness(x):\n",
    "    fig, ax = plt.subplots(2, 2, figsize=(5,5))\n",
    "    sns.distplot(df_customers[x], ax=ax[0,0])\n",
    "    sns.distplot(np.log(df_customers[x]), ax=ax[0,1])\n",
    "    sns.distplot(np.sqrt(df_customers[x]), ax=ax[1,0])\n",
    "    sns.distplot(stats.boxcox(df_customers[x])[0], ax=ax[1,1])\n",
    "    plt.tight_layout()\n",
    "    plt.show()\n",
    "    \n",
    "    print(df_customers[x].skew().round(2))\n",
    "    print(np.log(df_customers[x]).skew().round(2))\n",
    "    print(np.sqrt(df_customers[x]).skew().round(2))\n",
    "    print(pd.Series(stats.boxcox(df_customers[x])[0]).skew().round(2))"
   ]
  },
  {
   "cell_type": "code",
   "execution_count": 8,
   "id": "c908c5bc",
   "metadata": {},
   "outputs": [
    {
     "name": "stderr",
     "output_type": "stream",
     "text": [
      "D:\\anaconda\\lib\\site-packages\\seaborn\\distributions.py:2619: FutureWarning: `distplot` is a deprecated function and will be removed in a future version. Please adapt your code to use either `displot` (a figure-level function with similar flexibility) or `histplot` (an axes-level function for histograms).\n",
      "  warnings.warn(msg, FutureWarning)\n",
      "D:\\anaconda\\lib\\site-packages\\seaborn\\distributions.py:2619: FutureWarning: `distplot` is a deprecated function and will be removed in a future version. Please adapt your code to use either `displot` (a figure-level function with similar flexibility) or `histplot` (an axes-level function for histograms).\n",
      "  warnings.warn(msg, FutureWarning)\n",
      "D:\\anaconda\\lib\\site-packages\\seaborn\\distributions.py:2619: FutureWarning: `distplot` is a deprecated function and will be removed in a future version. Please adapt your code to use either `displot` (a figure-level function with similar flexibility) or `histplot` (an axes-level function for histograms).\n",
      "  warnings.warn(msg, FutureWarning)\n",
      "D:\\anaconda\\lib\\site-packages\\seaborn\\distributions.py:2619: FutureWarning: `distplot` is a deprecated function and will be removed in a future version. Please adapt your code to use either `displot` (a figure-level function with similar flexibility) or `histplot` (an axes-level function for histograms).\n",
      "  warnings.warn(msg, FutureWarning)\n"
     ]
    },
    {
     "data": {
      "image/png": "[encoded data removed]",
      "text/plain": [
       "<Figure size 360x360 with 4 Axes>"
      ]
     },
     "metadata": {
      "needs_background": "light"
     },
     "output_type": "display_data"
    },
    {
     "name": "stdout",
     "output_type": "stream",
     "text": [
      "1.82\n",
      "0.19\n",
      "1.18\n",
      "0.05\n"
     ]
    }
   ],
   "source": [
    "analyze_skewness('Recency')"
   ]
  },
  {
   "cell_type": "code",
   "execution_count": 9,
   "id": "316aaee7",
   "metadata": {},
   "outputs": [
    {
     "name": "stderr",
     "output_type": "stream",
     "text": [
      "D:\\anaconda\\lib\\site-packages\\seaborn\\distributions.py:2619: FutureWarning: `distplot` is a deprecated function and will be removed in a future version. Please adapt your code to use either `displot` (a figure-level function with similar flexibility) or `histplot` (an axes-level function for histograms).\n",
      "  warnings.warn(msg, FutureWarning)\n",
      "D:\\anaconda\\lib\\site-packages\\seaborn\\distributions.py:2619: FutureWarning: `distplot` is a deprecated function and will be removed in a future version. Please adapt your code to use either `displot` (a figure-level function with similar flexibility) or `histplot` (an axes-level function for histograms).\n",
      "  warnings.warn(msg, FutureWarning)\n",
      "D:\\anaconda\\lib\\site-packages\\seaborn\\distributions.py:2619: FutureWarning: `distplot` is a deprecated function and will be removed in a future version. Please adapt your code to use either `displot` (a figure-level function with similar flexibility) or `histplot` (an axes-level function for histograms).\n",
      "  warnings.warn(msg, FutureWarning)\n",
      "D:\\anaconda\\lib\\site-packages\\seaborn\\distributions.py:2619: FutureWarning: `distplot` is a deprecated function and will be removed in a future version. Please adapt your code to use either `displot` (a figure-level function with similar flexibility) or `histplot` (an axes-level function for histograms).\n",
      "  warnings.warn(msg, FutureWarning)\n"
     ]
    },
    {
     "data": {
      "image/png": "[encoded data removed]",
      "text/plain": [
       "<Figure size 360x360 with 4 Axes>"
      ]
     },
     "metadata": {
      "needs_background": "light"
     },
     "output_type": "display_data"
    },
    {
     "name": "stdout",
     "output_type": "stream",
     "text": [
      "1.4\n",
      "-0.09\n",
      "0.6\n",
      "-0.03\n"
     ]
    }
   ],
   "source": [
    "analyze_skewness('Frequency')"
   ]
  },
  {
   "cell_type": "markdown",
   "id": "45575fdd",
   "metadata": {},
   "source": [
    "# Lựa chọn Transform"
   ]
  },
  {
   "cell_type": "code",
   "execution_count": 10,
   "id": "29f8febc",
   "metadata": {},
   "outputs": [
    {
     "data": {
      "text/html": [
       "<div>\n",
       "<style scoped>\n",
       "    .dataframe tbody tr th:only-of-type {\n",
       "        vertical-align: middle;\n",
       "    }\n",
       "\n",
       "    .dataframe tbody tr th {\n",
       "        vertical-align: top;\n",
       "    }\n",
       "\n",
       "    .dataframe thead th {\n",
       "        text-align: right;\n",
       "    }\n",
       "</style>\n",
       "<table border=\"1\" class=\"dataframe\">\n",
       "  <thead>\n",
       "    <tr style=\"text-align: right;\">\n",
       "      <th></th>\n",
       "      <th>Recency</th>\n",
       "      <th>Frequency</th>\n",
       "      <th>MonetaryValue</th>\n",
       "    </tr>\n",
       "  </thead>\n",
       "  <tbody>\n",
       "    <tr>\n",
       "      <th>0</th>\n",
       "      <td>5.84</td>\n",
       "      <td>0.00</td>\n",
       "      <td>547.73</td>\n",
       "    </tr>\n",
       "    <tr>\n",
       "      <th>1</th>\n",
       "      <td>5.67</td>\n",
       "      <td>0.71</td>\n",
       "      <td>458.16</td>\n",
       "    </tr>\n",
       "    <tr>\n",
       "      <th>2</th>\n",
       "      <td>2.17</td>\n",
       "      <td>3.76</td>\n",
       "      <td>1634.10</td>\n",
       "    </tr>\n",
       "    <tr>\n",
       "      <th>3</th>\n",
       "      <td>1.85</td>\n",
       "      <td>3.91</td>\n",
       "      <td>1580.16</td>\n",
       "    </tr>\n",
       "    <tr>\n",
       "      <th>4</th>\n",
       "      <td>1.71</td>\n",
       "      <td>3.91</td>\n",
       "      <td>1903.37</td>\n",
       "    </tr>\n",
       "    <tr>\n",
       "      <th>5</th>\n",
       "      <td>4.45</td>\n",
       "      <td>3.24</td>\n",
       "      <td>1665.02</td>\n",
       "    </tr>\n",
       "    <tr>\n",
       "      <th>6</th>\n",
       "      <td>1.85</td>\n",
       "      <td>3.41</td>\n",
       "      <td>1691.70</td>\n",
       "    </tr>\n",
       "    <tr>\n",
       "      <th>7</th>\n",
       "      <td>1.71</td>\n",
       "      <td>3.94</td>\n",
       "      <td>1436.44</td>\n",
       "    </tr>\n",
       "    <tr>\n",
       "      <th>8</th>\n",
       "      <td>1.85</td>\n",
       "      <td>3.46</td>\n",
       "      <td>1704.49</td>\n",
       "    </tr>\n",
       "    <tr>\n",
       "      <th>9</th>\n",
       "      <td>4.12</td>\n",
       "      <td>3.30</td>\n",
       "      <td>1649.84</td>\n",
       "    </tr>\n",
       "  </tbody>\n",
       "</table>\n",
       "</div>"
      ],
      "text/plain": [
       "   Recency  Frequency  MonetaryValue\n",
       "0     5.84       0.00         547.73\n",
       "1     5.67       0.71         458.16\n",
       "2     2.17       3.76        1634.10\n",
       "3     1.85       3.91        1580.16\n",
       "4     1.71       3.91        1903.37\n",
       "5     4.45       3.24        1665.02\n",
       "6     1.85       3.41        1691.70\n",
       "7     1.71       3.94        1436.44\n",
       "8     1.85       3.46        1704.49\n",
       "9     4.12       3.30        1649.84"
      ]
     },
     "execution_count": 10,
     "metadata": {},
     "output_type": "execute_result"
    }
   ],
   "source": [
    "#Tiến hành transform dữ liệu\n",
    "df_customers_t = pd.DataFrame()\n",
    "df_customers_t['Recency'] = stats.boxcox(df_customers['Recency'])[0]\n",
    "df_customers_t['Frequency'] = stats.boxcox(df_customers['Frequency'])[0]\n",
    "df_customers_t['MonetaryValue'] = pd.Series(np.cbrt(df_customers['MonetaryValue'])).values\n",
    "df_customers_t.head(10)"
   ]
  },
  {
   "cell_type": "markdown",
   "id": "398fc189",
   "metadata": {},
   "source": [
    "# B4: Scale dữ liệu"
   ]
  },
  {
   "cell_type": "code",
   "execution_count": 11,
   "id": "5f53acf1",
   "metadata": {},
   "outputs": [],
   "source": [
    "# Tien hanh scale du lieu\n",
    "scaler = StandardScaler()\n",
    "scaler.fit(df_customers_t)\n",
    "df_customers_t = scaler.transform(df_customers_t)\n"
   ]
  },
  {
   "cell_type": "code",
   "execution_count": 12,
   "id": "75af0700",
   "metadata": {},
   "outputs": [
    {
     "data": {
      "text/html": [
       "<div>\n",
       "<style scoped>\n",
       "    .dataframe tbody tr th:only-of-type {\n",
       "        vertical-align: middle;\n",
       "    }\n",
       "\n",
       "    .dataframe tbody tr th {\n",
       "        vertical-align: top;\n",
       "    }\n",
       "\n",
       "    .dataframe thead th {\n",
       "        text-align: right;\n",
       "    }\n",
       "</style>\n",
       "<table border=\"1\" class=\"dataframe\">\n",
       "  <thead>\n",
       "    <tr style=\"text-align: right;\">\n",
       "      <th></th>\n",
       "      <th>0</th>\n",
       "      <th>1</th>\n",
       "      <th>2</th>\n",
       "    </tr>\n",
       "  </thead>\n",
       "  <tbody>\n",
       "    <tr>\n",
       "      <th>0</th>\n",
       "      <td>1.63</td>\n",
       "      <td>-1.35</td>\n",
       "      <td>-0.60</td>\n",
       "    </tr>\n",
       "    <tr>\n",
       "      <th>1</th>\n",
       "      <td>1.54</td>\n",
       "      <td>-0.81</td>\n",
       "      <td>-0.77</td>\n",
       "    </tr>\n",
       "    <tr>\n",
       "      <th>2</th>\n",
       "      <td>-0.38</td>\n",
       "      <td>1.51</td>\n",
       "      <td>1.44</td>\n",
       "    </tr>\n",
       "    <tr>\n",
       "      <th>3</th>\n",
       "      <td>-0.56</td>\n",
       "      <td>1.63</td>\n",
       "      <td>1.34</td>\n",
       "    </tr>\n",
       "    <tr>\n",
       "      <th>4</th>\n",
       "      <td>-0.64</td>\n",
       "      <td>1.63</td>\n",
       "      <td>1.94</td>\n",
       "    </tr>\n",
       "  </tbody>\n",
       "</table>\n",
       "</div>"
      ],
      "text/plain": [
       "      0     1     2\n",
       "0  1.63 -1.35 -0.60\n",
       "1  1.54 -0.81 -0.77\n",
       "2 -0.38  1.51  1.44\n",
       "3 -0.56  1.63  1.34\n",
       "4 -0.64  1.63  1.94"
      ]
     },
     "execution_count": 12,
     "metadata": {},
     "output_type": "execute_result"
    }
   ],
   "source": [
    "pd.DataFrame(df_customers_t).head()"
   ]
  },
  {
   "cell_type": "markdown",
   "id": "042e85a9",
   "metadata": {},
   "source": [
    "# B5: tìm số tâm cụm k tối ưu theo phương pháp elbow"
   ]
  },
  {
   "cell_type": "code",
   "execution_count": 13,
   "id": "2f11b1c4",
   "metadata": {},
   "outputs": [],
   "source": [
    "# Chọn số cụm bằng Elbow\n",
    "def elbow(df):\n",
    "    sse = {}\n",
    "    for k in range(1, 11):\n",
    "        kmeans = KMeans(n_clusters=k, random_state=42)\n",
    "        kmeans.fit(df)\n",
    "        sse[k] = kmeans.inertia_ \n",
    "\n",
    "    plt.title('The Elbow Method')\n",
    "    plt.xlabel('k')\n",
    "    plt.ylabel('SSE')\n",
    "    sns.pointplot(x=list(sse.keys()), y=list(sse.values()))\n",
    "    plt.show()"
   ]
  },
  {
   "cell_type": "code",
   "execution_count": 14,
   "id": "27badc16",
   "metadata": {},
   "outputs": [
    {
     "name": "stderr",
     "output_type": "stream",
     "text": [
      "D:\\anaconda\\lib\\site-packages\\sklearn\\cluster\\_kmeans.py:1334: UserWarning: KMeans is known to have a memory leak on Windows with MKL, when there are less chunks than available threads. You can avoid it by setting the environment variable OMP_NUM_THREADS=2.\n",
      "  warnings.warn(\n",
      "D:\\anaconda\\lib\\site-packages\\sklearn\\cluster\\_kmeans.py:1334: UserWarning: KMeans is known to have a memory leak on Windows with MKL, when there are less chunks than available threads. You can avoid it by setting the environment variable OMP_NUM_THREADS=2.\n",
      "  warnings.warn(\n",
      "D:\\anaconda\\lib\\site-packages\\sklearn\\cluster\\_kmeans.py:1334: UserWarning: KMeans is known to have a memory leak on Windows with MKL, when there are less chunks than available threads. You can avoid it by setting the environment variable OMP_NUM_THREADS=2.\n",
      "  warnings.warn(\n",
      "D:\\anaconda\\lib\\site-packages\\sklearn\\cluster\\_kmeans.py:1334: UserWarning: KMeans is known to have a memory leak on Windows with MKL, when there are less chunks than available threads. You can avoid it by setting the environment variable OMP_NUM_THREADS=2.\n",
      "  warnings.warn(\n",
      "D:\\anaconda\\lib\\site-packages\\sklearn\\cluster\\_kmeans.py:1334: UserWarning: KMeans is known to have a memory leak on Windows with MKL, when there are less chunks than available threads. You can avoid it by setting the environment variable OMP_NUM_THREADS=2.\n",
      "  warnings.warn(\n",
      "D:\\anaconda\\lib\\site-packages\\sklearn\\cluster\\_kmeans.py:1334: UserWarning: KMeans is known to have a memory leak on Windows with MKL, when there are less chunks than available threads. You can avoid it by setting the environment variable OMP_NUM_THREADS=2.\n",
      "  warnings.warn(\n",
      "D:\\anaconda\\lib\\site-packages\\sklearn\\cluster\\_kmeans.py:1334: UserWarning: KMeans is known to have a memory leak on Windows with MKL, when there are less chunks than available threads. You can avoid it by setting the environment variable OMP_NUM_THREADS=2.\n",
      "  warnings.warn(\n",
      "D:\\anaconda\\lib\\site-packages\\sklearn\\cluster\\_kmeans.py:1334: UserWarning: KMeans is known to have a memory leak on Windows with MKL, when there are less chunks than available threads. You can avoid it by setting the environment variable OMP_NUM_THREADS=2.\n",
      "  warnings.warn(\n",
      "D:\\anaconda\\lib\\site-packages\\sklearn\\cluster\\_kmeans.py:1334: UserWarning: KMeans is known to have a memory leak on Windows with MKL, when there are less chunks than available threads. You can avoid it by setting the environment variable OMP_NUM_THREADS=2.\n",
      "  warnings.warn(\n",
      "D:\\anaconda\\lib\\site-packages\\sklearn\\cluster\\_kmeans.py:1334: UserWarning: KMeans is known to have a memory leak on Windows with MKL, when there are less chunks than available threads. You can avoid it by setting the environment variable OMP_NUM_THREADS=2.\n",
      "  warnings.warn(\n"
     ]
    },
    {
     "data": {
      "image/png": "[encoded data removed]",
      "text/plain": [
       "<Figure size 432x288 with 1 Axes>"
      ]
     },
     "metadata": {
      "needs_background": "light"
     },
     "output_type": "display_data"
    }
   ],
   "source": [
    "# sử dụng đầu vào vào df đã transform\n",
    "elbow(df_customers_t)"
   ]
  },
  {
   "cell_type": "markdown",
   "id": "d73e3800",
   "metadata": {},
   "source": [
    "# B6: khởi chạy thuật toán kmeans"
   ]
  },
  {
   "cell_type": "code",
   "execution_count": 15,
   "id": "bb01554b",
   "metadata": {},
   "outputs": [],
   "source": [
    "# đầu vào là k số tâm cụm, df dã transform, df đã tính RFM\n",
    "def get_labels(k,df_t,df):\n",
    "    model = KMeans(n_clusters=k, random_state=42)\n",
    "    model.fit(df_t)\n",
    "    df['Cluster'] = model.labels_\n",
    "    return df"
   ]
  },
  {
   "cell_type": "code",
   "execution_count": 16,
   "id": "c0d5e9c4",
   "metadata": {},
   "outputs": [
    {
     "name": "stderr",
     "output_type": "stream",
     "text": [
      "D:\\anaconda\\lib\\site-packages\\sklearn\\cluster\\_kmeans.py:1334: UserWarning: KMeans is known to have a memory leak on Windows with MKL, when there are less chunks than available threads. You can avoid it by setting the environment variable OMP_NUM_THREADS=2.\n",
      "  warnings.warn(\n"
     ]
    }
   ],
   "source": [
    "df = get_labels(3,df_customers_t,df_customers)"
   ]
  },
  {
   "cell_type": "markdown",
   "id": "6d826141",
   "metadata": {},
   "source": [
    "# B7: reset index và đổi các giá trị cụm cho phù hợp"
   ]
  },
  {
   "cell_type": "code",
   "execution_count": 17,
   "id": "779c1553",
   "metadata": {},
   "outputs": [
    {
     "data": {
      "text/html": [
       "<div>\n",
       "<style scoped>\n",
       "    .dataframe tbody tr th:only-of-type {\n",
       "        vertical-align: middle;\n",
       "    }\n",
       "\n",
       "    .dataframe tbody tr th {\n",
       "        vertical-align: top;\n",
       "    }\n",
       "\n",
       "    .dataframe thead th {\n",
       "        text-align: right;\n",
       "    }\n",
       "</style>\n",
       "<table border=\"1\" class=\"dataframe\">\n",
       "  <thead>\n",
       "    <tr style=\"text-align: right;\">\n",
       "      <th></th>\n",
       "      <th>Recency</th>\n",
       "      <th>Frequency</th>\n",
       "      <th>MonetaryValue</th>\n",
       "    </tr>\n",
       "    <tr>\n",
       "      <th>Cluster</th>\n",
       "      <th></th>\n",
       "      <th></th>\n",
       "      <th></th>\n",
       "    </tr>\n",
       "  </thead>\n",
       "  <tbody>\n",
       "    <tr>\n",
       "      <th>0</th>\n",
       "      <td>434.11</td>\n",
       "      <td>2.17</td>\n",
       "      <td>156843796.77</td>\n",
       "    </tr>\n",
       "    <tr>\n",
       "      <th>1</th>\n",
       "      <td>7.86</td>\n",
       "      <td>2.79</td>\n",
       "      <td>197947207.05</td>\n",
       "    </tr>\n",
       "    <tr>\n",
       "      <th>2</th>\n",
       "      <td>32.79</td>\n",
       "      <td>17.39</td>\n",
       "      <td>2757230575.57</td>\n",
       "    </tr>\n",
       "  </tbody>\n",
       "</table>\n",
       "</div>"
      ],
      "text/plain": [
       "         Recency  Frequency  MonetaryValue\n",
       "Cluster                                   \n",
       "0         434.11       2.17   156843796.77\n",
       "1           7.86       2.79   197947207.05\n",
       "2          32.79      17.39  2757230575.57"
      ]
     },
     "execution_count": 17,
     "metadata": {},
     "output_type": "execute_result"
    }
   ],
   "source": [
    "df.groupby('Cluster').agg(\n",
    "    {\n",
    "        'Recency':'mean',\n",
    "        'Frequency':'mean',\n",
    "        'MonetaryValue':'mean'\n",
    "    }\n",
    ").round(2)"
   ]
  },
  {
   "cell_type": "code",
   "execution_count": 18,
   "id": "4b75c163",
   "metadata": {},
   "outputs": [],
   "source": [
    "df = df.reset_index()\n",
    "df['Cluster'].replace({2: 'A', 1: 'B', 0 : 'C'}, inplace=True)"
   ]
  },
  {
   "cell_type": "code",
   "execution_count": 19,
   "id": "bb27719a",
   "metadata": {},
   "outputs": [
    {
     "data": {
      "text/html": [
       "<div>\n",
       "<style scoped>\n",
       "    .dataframe tbody tr th:only-of-type {\n",
       "        vertical-align: middle;\n",
       "    }\n",
       "\n",
       "    .dataframe tbody tr th {\n",
       "        vertical-align: top;\n",
       "    }\n",
       "\n",
       "    .dataframe thead th {\n",
       "        text-align: right;\n",
       "    }\n",
       "</style>\n",
       "<table border=\"1\" class=\"dataframe\">\n",
       "  <thead>\n",
       "    <tr style=\"text-align: right;\">\n",
       "      <th></th>\n",
       "      <th>Ma_KH</th>\n",
       "      <th>Recency</th>\n",
       "      <th>Frequency</th>\n",
       "      <th>MonetaryValue</th>\n",
       "      <th>Cluster</th>\n",
       "    </tr>\n",
       "  </thead>\n",
       "  <tbody>\n",
       "    <tr>\n",
       "      <th>0</th>\n",
       "      <td>KH00001</td>\n",
       "      <td>1095</td>\n",
       "      <td>1</td>\n",
       "      <td>164320000.00</td>\n",
       "      <td>C</td>\n",
       "    </tr>\n",
       "    <tr>\n",
       "      <th>1</th>\n",
       "      <td>KH00002</td>\n",
       "      <td>858</td>\n",
       "      <td>2</td>\n",
       "      <td>96175000.00</td>\n",
       "      <td>C</td>\n",
       "    </tr>\n",
       "    <tr>\n",
       "      <th>2</th>\n",
       "      <td>KH00003</td>\n",
       "      <td>10</td>\n",
       "      <td>31</td>\n",
       "      <td>4363511324.00</td>\n",
       "      <td>A</td>\n",
       "    </tr>\n",
       "    <tr>\n",
       "      <th>3</th>\n",
       "      <td>KH00004</td>\n",
       "      <td>7</td>\n",
       "      <td>35</td>\n",
       "      <td>3945543723.00</td>\n",
       "      <td>A</td>\n",
       "    </tr>\n",
       "    <tr>\n",
       "      <th>4</th>\n",
       "      <td>KH00005</td>\n",
       "      <td>6</td>\n",
       "      <td>35</td>\n",
       "      <td>6895584252.00</td>\n",
       "      <td>A</td>\n",
       "    </tr>\n",
       "    <tr>\n",
       "      <th>...</th>\n",
       "      <td>...</td>\n",
       "      <td>...</td>\n",
       "      <td>...</td>\n",
       "      <td>...</td>\n",
       "      <td>...</td>\n",
       "    </tr>\n",
       "    <tr>\n",
       "      <th>327</th>\n",
       "      <td>KH00329</td>\n",
       "      <td>1</td>\n",
       "      <td>1</td>\n",
       "      <td>13204854.00</td>\n",
       "      <td>B</td>\n",
       "    </tr>\n",
       "    <tr>\n",
       "      <th>328</th>\n",
       "      <td>KH00330</td>\n",
       "      <td>1</td>\n",
       "      <td>1</td>\n",
       "      <td>10303904.00</td>\n",
       "      <td>B</td>\n",
       "    </tr>\n",
       "    <tr>\n",
       "      <th>329</th>\n",
       "      <td>KH00331</td>\n",
       "      <td>1</td>\n",
       "      <td>1</td>\n",
       "      <td>14016860.00</td>\n",
       "      <td>B</td>\n",
       "    </tr>\n",
       "    <tr>\n",
       "      <th>330</th>\n",
       "      <td>KH00332</td>\n",
       "      <td>1</td>\n",
       "      <td>1</td>\n",
       "      <td>10655000.00</td>\n",
       "      <td>B</td>\n",
       "    </tr>\n",
       "    <tr>\n",
       "      <th>331</th>\n",
       "      <td>KH00333</td>\n",
       "      <td>1</td>\n",
       "      <td>1</td>\n",
       "      <td>10900201.00</td>\n",
       "      <td>B</td>\n",
       "    </tr>\n",
       "  </tbody>\n",
       "</table>\n",
       "<p>332 rows × 5 columns</p>\n",
       "</div>"
      ],
      "text/plain": [
       "       Ma_KH  Recency  Frequency  MonetaryValue Cluster\n",
       "0    KH00001     1095          1   164320000.00       C\n",
       "1    KH00002      858          2    96175000.00       C\n",
       "2    KH00003       10         31  4363511324.00       A\n",
       "3    KH00004        7         35  3945543723.00       A\n",
       "4    KH00005        6         35  6895584252.00       A\n",
       "..       ...      ...        ...            ...     ...\n",
       "327  KH00329        1          1    13204854.00       B\n",
       "328  KH00330        1          1    10303904.00       B\n",
       "329  KH00331        1          1    14016860.00       B\n",
       "330  KH00332        1          1    10655000.00       B\n",
       "331  KH00333        1          1    10900201.00       B\n",
       "\n",
       "[332 rows x 5 columns]"
      ]
     },
     "execution_count": 19,
     "metadata": {},
     "output_type": "execute_result"
    }
   ],
   "source": [
    "df"
   ]
  },
  {
   "cell_type": "code",
   "execution_count": 68,
   "id": "795f1c36",
   "metadata": {},
   "outputs": [
    {
     "data": {
      "image/png": "[encoded data removed]",
      "text/plain": [
       "<Figure size 1080x1080 with 3 Axes>"
      ]
     },
     "metadata": {},
     "output_type": "display_data"
    }
   ],
   "source": [
    "df['Recency'] = df['Recency'].apply(lambda x: max(x, 0))\n",
    "df['Frequency'] = df['Frequency'].apply(lambda x: max(x, 0))\n",
    "df['MonetaryValue'] = df['MonetaryValue'].apply(lambda x: max(x, 0))\n",
    "\n",
    "# Định dạng tiền tệ tùy chỉnh\n",
    "def currency_format(x, pos):\n",
    "    return '{:,.0f}'.format(x)\n",
    "\n",
    "# Tạo biểu đồ boxplot cho từng chỉ số Recency, Frequency, MonetaryValue theo cluster\n",
    "plt.figure(figsize=(15, 15))\n",
    "\n",
    "# Biểu đồ boxplot cho Recency\n",
    "plt.subplot(3, 1, 1)\n",
    "sns.boxplot(x='Cluster', y='Recency', data=df, palette={'A': 'green', 'B': 'orange', 'C': 'red'})\n",
    "plt.title('Recency by Cluster')\n",
    "plt.xlabel('Cluster')\n",
    "plt.ylabel('Recency')\n",
    "\n",
    "# Biểu đồ boxplot cho Frequency\n",
    "plt.subplot(3, 1, 2)\n",
    "sns.boxplot(x='Cluster', y='Frequency', data=df, palette={'A': 'green', 'B': 'orange', 'C': 'red'})\n",
    "plt.title('Frequency by Cluster')\n",
    "plt.xlabel('Cluster')\n",
    "plt.ylabel('Frequency')\n",
    "\n",
    "# Biểu đồ boxplot cho MonetaryValue\n",
    "plt.subplot(3, 1, 3)\n",
    "sns.boxplot(x='Cluster', y='MonetaryValue', data=df, palette={'A': 'green', 'B': 'orange', 'C': 'red'})\n",
    "plt.title('Monetary Value by Cluster')\n",
    "plt.xlabel('Cluster')\n",
    "plt.ylabel('Monetary Value')\n",
    "ax = plt.gca()\n",
    "ax.yaxis.set_major_formatter(FuncFormatter(currency_format))\n",
    "ax.set_ylim(0, 10**10)  # Đặt giới hạn trục y từ 0 đến 10 tỷ\n",
    "ax.set_yticks(range(0, 10**10 + 1, 10**9))  # Đặt các bước nhảy trên trục y mỗi 1 tỷ\n",
    "\n",
    "plt.tight_layout()\n",
    "plt.show()"
   ]
  },
  {
   "cell_type": "markdown",
   "id": "5e20e911",
   "metadata": {},
   "source": [
    "# B8 ĐƯA DỮ LIỆU VÀO CSDL"
   ]
  },
  {
   "cell_type": "code",
   "execution_count": 5,
   "id": "5aacbea4",
   "metadata": {},
   "outputs": [],
   "source": [
    "# Kết nối với CSDL\n",
    "conn = pyodbc.connect(\n",
    "Trusted_Connection = \"Yes\",\n",
    "Driver = '{ODBC Driver 17 for SQL Server}',\n",
    "Server = \"DESKTOP-MDDIIDJ\\MSSQLSERVER01\",\n",
    "Database = 'Ban_Hang')\n",
    "cursor = conn.cursor()"
   ]
  },
  {
   "cell_type": "code",
   "execution_count": 2,
   "id": "e9a95cbd",
   "metadata": {},
   "outputs": [],
   "source": [
    "#Tạo bảng \n",
    "#cursor.execute(\"CREATE TABLE PHAN_KHUC_KH(Ma_KH varchar(20),  Recency int, Frequency int, MonetaryValue float, Phan_khuc char(1) )\")"
   ]
  },
  {
   "cell_type": "code",
   "execution_count": 21,
   "id": "c48616a8",
   "metadata": {},
   "outputs": [],
   "source": [
    "def Insert_PKKH(df):\n",
    "    # Xóa toàn bộ dữ liệu từ bảng PHAN_KHUC_KH\n",
    "    cursor.execute('''\n",
    "                    DELETE FROM BAN_HANG.dbo.PHAN_KHUC_KH\n",
    "                    ''')\n",
    "    # Chèn dữ liệu vào bảng PHAN_KHUC_KH\n",
    "    for row in df.itertuples(index=False):\n",
    "        cursor.execute('''\n",
    "                        INSERT INTO BAN_HANG.dbo.PHAN_KHUC_KH(Ma_KH, Recency, Frequency, MonetaryValue, Phan_khuc )\n",
    "                        VALUES(?, ?, ?, ?, ?)\n",
    "                        ''',\n",
    "                       row[0], row[1], row[2], row[3], row[4]\n",
    "                      )\n",
    "    conn.commit()"
   ]
  },
  {
   "cell_type": "code",
   "execution_count": 22,
   "id": "8c3f72a3",
   "metadata": {},
   "outputs": [],
   "source": [
    "#Insert_PKKH(df)"
   ]
  },
  {
   "cell_type": "markdown",
   "id": "6739de43",
   "metadata": {},
   "source": [
    "#  Tóm tắt các bước thực hiện"
   ]
  },
  {
   "cell_type": "markdown",
   "id": "f2ad2f9a",
   "metadata": {},
   "source": [
    "Các bước thực hiện:<br>\n",
    "B1: dùng cal_RFM() để tính RFM <br>\n",
    "    ex: df_customers = cal_RFM() <br>\n",
    "B2: Kiểm tra phân phối của dữ liệu<br>\n",
    "B3: Phân tích skewness để lựa chọn pp Transform <br>\n",
    "    ex: df_customers_t['Recency'] = stats.boxcox(df_customers['Recency'])[0]<br>\n",
    "B4: Scale dữ liệu để đưa vào mô hình phân cụm Kmeans<br>\n",
    "    ex: scaler.fit(df_customers_t)<br>\n",
    "B5: lựa chọn số tâm k tối ưu theo phương pháp elbow<br>\n",
    "    ex: elbow(df_customers_t)<br>\n",
    "B6: sử dụng hàm get_labels(k,df_t,df_customers) để khởi chạy thuận toán Kmeans, đầu vào là số tâm k tối ưu,dataframe đã<br> transform, và dataframe tính RFM ban đầu (ở B1)<br>\n",
    "    ex: df = get_labels(3,df_customers_t,df_customers)<br>\n",
    "B7: Reset index và đổi các giá trị tâm cụm<br>\n",
    "B8: đưa dữ liệu vào sql bằng hàm Insert_PKKH()<br>\n",
    "    ex: Insert_PKKH(df)<br>\n",
    "    "
   ]
  }
 ],
 "metadata": {
  "kernelspec": {
   "display_name": "Python 3 (ipykernel)",
   "language": "python",
   "name": "python3"
  },
  "language_info": {
   "codemirror_mode": {
    "name": "ipython",
    "version": 3
   },
   "file_extension": ".py",
   "mimetype": "text/x-python",
   "name": "python",
   "nbconvert_exporter": "python",
   "pygments_lexer": "ipython3",
   "version": "3.9.7"
  }
 },
 "nbformat": 4,
 "nbformat_minor": 5
}
