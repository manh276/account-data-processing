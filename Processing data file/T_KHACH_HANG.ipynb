{
 "cells": [
  {
   "cell_type": "markdown",
   "id": "2cfa86dd",
   "metadata": {},
   "source": [
    "# @2\n",
    "# GHI CHÚ\n",
    "# I) File này dùng để tạo mã khách hàng mới. Sau đó tạo và đưa dữ liệu vào bảng KHACH_HANG trong CSDL Ban_Hang\n",
    "# II) Sử dụng dữ liệu sổ chi tiết bán hàng đã qua xử lý bằng file preprocess "
   ]
  },
  {
   "cell_type": "code",
   "execution_count": 1,
   "id": "64f66609",
   "metadata": {},
   "outputs": [],
   "source": [
    "import pandas as pd\n",
    "import numpy as np\n",
    "import pyodbc"
   ]
  },
  {
   "cell_type": "code",
   "execution_count": 2,
   "id": "55795028",
   "metadata": {},
   "outputs": [],
   "source": [
    "SCT20 = pd.read_csv('D://THUCTAP//data_da_xuly//SCT_20.csv', encoding='utf-16', sep='\\t')\n",
    "SCT21 = pd.read_csv('D://THUCTAP//data_da_xuly//SCT_21.csv', encoding='utf-16', sep='\\t')\n",
    "SCT22 = pd.read_csv('D://THUCTAP//data_da_xuly//SCT_22.csv', encoding='utf-16', sep='\\t')"
   ]
  },
  {
   "cell_type": "markdown",
   "id": "0f8d7435",
   "metadata": {},
   "source": [
    "# B1 TẠO MÃ KH BAN ĐẦU"
   ]
  },
  {
   "cell_type": "code",
   "execution_count": 3,
   "id": "30451977",
   "metadata": {},
   "outputs": [],
   "source": [
    "KHACH_HANG_20 = SCT20['Tên khách hàng'].unique()"
   ]
  },
  {
   "cell_type": "code",
   "execution_count": 4,
   "id": "617a7bb8",
   "metadata": {},
   "outputs": [],
   "source": [
    "KHACH_HANG_20 = pd.DataFrame({'Tên khách hàng': KHACH_HANG_20})"
   ]
  },
  {
   "cell_type": "code",
   "execution_count": 5,
   "id": "1a6f8fc1",
   "metadata": {},
   "outputs": [],
   "source": [
    "KHACH_HANG_20['Ma_KH'] = 'KH' + (KHACH_HANG_20.index + 1).astype(str).str.zfill(5)"
   ]
  },
  {
   "cell_type": "code",
   "execution_count": 6,
   "id": "0878e758",
   "metadata": {},
   "outputs": [
    {
     "data": {
      "text/html": [
       "<div>\n",
       "<style scoped>\n",
       "    .dataframe tbody tr th:only-of-type {\n",
       "        vertical-align: middle;\n",
       "    }\n",
       "\n",
       "    .dataframe tbody tr th {\n",
       "        vertical-align: top;\n",
       "    }\n",
       "\n",
       "    .dataframe thead th {\n",
       "        text-align: right;\n",
       "    }\n",
       "</style>\n",
       "<table border=\"1\" class=\"dataframe\">\n",
       "  <thead>\n",
       "    <tr style=\"text-align: right;\">\n",
       "      <th></th>\n",
       "      <th>Tên khách hàng</th>\n",
       "      <th>Ma_KH</th>\n",
       "    </tr>\n",
       "  </thead>\n",
       "  <tbody>\n",
       "    <tr>\n",
       "      <th>110</th>\n",
       "      <td>Phan Thị Thuỷ</td>\n",
       "      <td>KH00111</td>\n",
       "    </tr>\n",
       "    <tr>\n",
       "      <th>111</th>\n",
       "      <td>Siêu thị Vimart</td>\n",
       "      <td>KH00112</td>\n",
       "    </tr>\n",
       "    <tr>\n",
       "      <th>112</th>\n",
       "      <td>CÔNG TY CP ĐẦU TƯ XÂY DỰNG VÀ THƯƠNG MẠI KHÁNH...</td>\n",
       "      <td>KH00113</td>\n",
       "    </tr>\n",
       "    <tr>\n",
       "      <th>113</th>\n",
       "      <td>CÔNG TY TNHH TƯ VẤN XÂY DỰNG DÂN DỤNG HÀ TĨNH</td>\n",
       "      <td>KH00114</td>\n",
       "    </tr>\n",
       "    <tr>\n",
       "      <th>114</th>\n",
       "      <td>Cty CP XD và TM Linh Châu</td>\n",
       "      <td>KH00115</td>\n",
       "    </tr>\n",
       "  </tbody>\n",
       "</table>\n",
       "</div>"
      ],
      "text/plain": [
       "                                        Tên khách hàng    Ma_KH\n",
       "110                                      Phan Thị Thuỷ  KH00111\n",
       "111                                    Siêu thị Vimart  KH00112\n",
       "112  CÔNG TY CP ĐẦU TƯ XÂY DỰNG VÀ THƯƠNG MẠI KHÁNH...  KH00113\n",
       "113      CÔNG TY TNHH TƯ VẤN XÂY DỰNG DÂN DỤNG HÀ TĨNH  KH00114\n",
       "114                          Cty CP XD và TM Linh Châu  KH00115"
      ]
     },
     "execution_count": 6,
     "metadata": {},
     "output_type": "execute_result"
    }
   ],
   "source": [
    "KHACH_HANG_20.tail(5)"
   ]
  },
  {
   "cell_type": "code",
   "execution_count": 7,
   "id": "65e84d7a",
   "metadata": {},
   "outputs": [],
   "source": [
    "def Unique_name(df):\n",
    "    KH = df['Tên khách hàng'].unique()\n",
    "    KH = pd.DataFrame({'Tên khách hàng': KH})\n",
    "    return KH"
   ]
  },
  {
   "cell_type": "markdown",
   "id": "bbf59ed7",
   "metadata": {},
   "source": [
    "# B2 Đưa dữ liệu vào CSDL"
   ]
  },
  {
   "cell_type": "code",
   "execution_count": 8,
   "id": "7c7f7e52",
   "metadata": {},
   "outputs": [],
   "source": [
    "# Kết nối với CSDL\n",
    "conn = pyodbc.connect(\n",
    "Trusted_Connection = \"Yes\",\n",
    "Driver = '{ODBC Driver 17 for SQL Server}',\n",
    "Server = \"DESKTOP-MDDIIDJ\\MSSQLSERVER01\",\n",
    "Database = 'Ban_Hang')\n",
    "cursor = conn.cursor()"
   ]
  },
  {
   "cell_type": "code",
   "execution_count": 9,
   "id": "45320ec9",
   "metadata": {},
   "outputs": [
    {
     "data": {
      "text/plain": [
       "<pyodbc.Cursor at 0x2121560d230>"
      ]
     },
     "execution_count": 9,
     "metadata": {},
     "output_type": "execute_result"
    }
   ],
   "source": [
    "#Tạo bảng KHACH_HANG\n",
    "cursor.execute(\"CREATE TABLE KHACH_HANG(Ten_khach_hang nvarchar(150), Ma_KH varchar(8))\")"
   ]
  },
  {
   "cell_type": "code",
   "execution_count": 10,
   "id": "79b76621",
   "metadata": {},
   "outputs": [],
   "source": [
    "#Thêm vào DS khách hàng ban đầu\n",
    "def Insert_KH(df):\n",
    "    for row in df.itertuples():\n",
    "        cursor.execute('''\n",
    "                        INSERT INTO Ban_Hang.dbo.KHACH_HANG(Ten_khach_hang, Ma_KH)\n",
    "                        VALUES(?, ?)\n",
    "                        ''',\n",
    "                        row[1],\n",
    "                        row[2]\n",
    "                      )\n",
    "    conn.commit()"
   ]
  },
  {
   "cell_type": "code",
   "execution_count": 11,
   "id": "9f6d67a5",
   "metadata": {},
   "outputs": [],
   "source": [
    "# chuyển định dạng dữ liệu của bảng KH\n",
    "def convert_columns_to_string(df):\n",
    "    return df.astype(str)"
   ]
  },
  {
   "cell_type": "code",
   "execution_count": 12,
   "id": "274faf8e",
   "metadata": {},
   "outputs": [],
   "source": [
    "KHACH_HANG_20=convert_columns_to_string(KHACH_HANG_20)"
   ]
  },
  {
   "cell_type": "code",
   "execution_count": 13,
   "id": "d74dfd1f",
   "metadata": {},
   "outputs": [],
   "source": [
    "Insert_KH(KHACH_HANG_20)"
   ]
  },
  {
   "cell_type": "code",
   "execution_count": 14,
   "id": "62dbfa92",
   "metadata": {},
   "outputs": [],
   "source": [
    "# Tạo hàm thêm mới DS Khách hàng từ các năm tiếp theo.\n",
    "def Insert_KH_n(df):\n",
    "    for row in df.itertuples():\n",
    "        # Kiểm tra xem tên khách hàng đã tồn tại trong cơ sở dữ liệu hay chưa\n",
    "        cursor.execute('''\n",
    "                        SELECT COUNT(*) \n",
    "                        FROM Ban_Hang.dbo.KHACH_HANG \n",
    "                        WHERE Ten_khach_hang = ?\n",
    "                        ''',\n",
    "                        row[1]\n",
    "                      )\n",
    "        count = cursor.fetchone()[0]\n",
    "        \n",
    "        if count == 0:  # Nếu tên khách hàng chưa tồn tại\n",
    "            # Lấy ra ID lớn nhất hiện tại\n",
    "            cursor.execute('''\n",
    "                            SELECT MAX(CAST(SUBSTRING(Ma_KH, 3, LEN(Ma_KH)) AS INT)) \n",
    "                            FROM Ban_Hang.dbo.KHACH_HANG\n",
    "                            ''')\n",
    "            max_id = cursor.fetchone()[0]  # Lấy ID lớn nhất\n",
    "            if max_id is None:\n",
    "                new_id = 1\n",
    "            else:\n",
    "                new_id = max_id + 1\n",
    "            \n",
    "            # Tạo mã khách hàng mới\n",
    "            new_kh_id = 'KH' + str(new_id).zfill(5)\n",
    "            \n",
    "            # Thêm dữ liệu mới vào cơ sở dữ liệu\n",
    "            cursor.execute('''\n",
    "                            INSERT INTO Ban_Hang.dbo.KHACH_HANG(Ten_khach_hang, Ma_KH)\n",
    "                            VALUES(?, ?)\n",
    "                            ''',\n",
    "                            row[1],\n",
    "                            new_kh_id\n",
    "                          )\n",
    "    conn.commit()"
   ]
  },
  {
   "cell_type": "markdown",
   "id": "ba589f9f",
   "metadata": {},
   "source": [
    "# KH năm 2021"
   ]
  },
  {
   "cell_type": "code",
   "execution_count": 15,
   "id": "517309bb",
   "metadata": {},
   "outputs": [],
   "source": [
    "# Lấy ra tên KH giao dịch trong năm 2021\n",
    "KHACH_HANG_21 = Unique_name(SCT21)"
   ]
  },
  {
   "cell_type": "code",
   "execution_count": 16,
   "id": "68f57692",
   "metadata": {},
   "outputs": [],
   "source": [
    "# thay đổi định dạng DL cho DS KH năm 2021\n",
    "KHACH_HANG_21 = convert_columns_to_string(KHACH_HANG_21)\n",
    "# Thêm DS KH năm 2021 vào CSDL\n",
    "Insert_KH_n(KHACH_HANG_21)"
   ]
  },
  {
   "cell_type": "markdown",
   "id": "2ff25388",
   "metadata": {},
   "source": [
    "# KH năm 2022"
   ]
  },
  {
   "cell_type": "code",
   "execution_count": 17,
   "id": "cb022db4",
   "metadata": {},
   "outputs": [],
   "source": [
    "# Lấy ra tên KH giao dịch trong năm 2022\n",
    "KHACH_HANG_22 = Unique_name(SCT22)"
   ]
  },
  {
   "cell_type": "code",
   "execution_count": 18,
   "id": "3ef98545",
   "metadata": {},
   "outputs": [],
   "source": [
    "# thay đổi định dạng DL cho DS KH năm 2022\n",
    "KHACH_HANG_22 = convert_columns_to_string(KHACH_HANG_22)\n",
    "# Thêm DS KH năm 2022 vào CSDL\n",
    "Insert_KH_n(KHACH_HANG_22)"
   ]
  }
 ],
 "metadata": {
  "kernelspec": {
   "display_name": "Python 3 (ipykernel)",
   "language": "python",
   "name": "python3"
  },
  "language_info": {
   "codemirror_mode": {
    "name": "ipython",
    "version": 3
   },
   "file_extension": ".py",
   "mimetype": "text/x-python",
   "name": "python",
   "nbconvert_exporter": "python",
   "pygments_lexer": "ipython3",
   "version": "3.9.7"
  }
 },
 "nbformat": 4,
 "nbformat_minor": 5
}
